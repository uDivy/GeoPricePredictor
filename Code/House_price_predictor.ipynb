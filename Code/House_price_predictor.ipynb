{
 "cells": [
  {
   "cell_type": "code",
   "execution_count": 2,
   "id": "77f51fa5-07dd-4a9d-938c-e5bc079dbc95",
   "metadata": {},
   "outputs": [],
   "source": [
    "import os\n",
    "import numpy as np\n",
    "import gc"
   ]
  },
  {
   "cell_type": "code",
   "execution_count": 5,
   "id": "01fe232e-3cae-4951-98a5-857b6ffeac09",
   "metadata": {},
   "outputs": [
    {
     "name": "stdin",
     "output_type": "stream",
     "text": [
      "Enter the filename of the numpy array to process (e.g., 'train_zoom_16.npy'):  train_zoom_16.npy\n"
     ]
    },
    {
     "ename": "MemoryError",
     "evalue": "Unable to allocate 7.27 GiB for an array with shape (1951896576,) and data type float32",
     "output_type": "error",
     "traceback": [
      "\u001b[1;31m---------------------------------------------------------------------------\u001b[0m",
      "\u001b[1;31mMemoryError\u001b[0m                               Traceback (most recent call last)",
      "Cell \u001b[1;32mIn[5], line 47\u001b[0m\n\u001b[0;32m     45\u001b[0m \u001b[38;5;66;03m# Main flow\u001b[39;00m\n\u001b[0;32m     46\u001b[0m filename_to_process \u001b[38;5;241m=\u001b[39m get_filename_to_process()\n\u001b[1;32m---> 47\u001b[0m \u001b[43mprocess_and_save_npy\u001b[49m\u001b[43m(\u001b[49m\u001b[43mfilename_to_process\u001b[49m\u001b[43m)\u001b[49m\n",
      "Cell \u001b[1;32mIn[5], line 30\u001b[0m, in \u001b[0;36mprocess_and_save_npy\u001b[1;34m(array_filename)\u001b[0m\n\u001b[0;32m     27\u001b[0m gc\u001b[38;5;241m.\u001b[39mcollect()\n\u001b[0;32m     29\u001b[0m \u001b[38;5;66;03m# Load the resized array, preprocess, and save it again\u001b[39;00m\n\u001b[1;32m---> 30\u001b[0m images_resized \u001b[38;5;241m=\u001b[39m \u001b[43mnp\u001b[49m\u001b[38;5;241;43m.\u001b[39;49m\u001b[43mload\u001b[49m\u001b[43m(\u001b[49m\u001b[43mos\u001b[49m\u001b[38;5;241;43m.\u001b[39;49m\u001b[43mpath\u001b[49m\u001b[38;5;241;43m.\u001b[39;49m\u001b[43mjoin\u001b[49m\u001b[43m(\u001b[49m\u001b[43marray_save_path\u001b[49m\u001b[43m,\u001b[49m\u001b[43m \u001b[49m\u001b[43mresized_filename\u001b[49m\u001b[43m)\u001b[49m\u001b[43m)\u001b[49m\n\u001b[0;32m     31\u001b[0m images_preprocessed \u001b[38;5;241m=\u001b[39m preprocess_input(images_resized)\n\u001b[0;32m     32\u001b[0m preprocessed_filename \u001b[38;5;241m=\u001b[39m os\u001b[38;5;241m.\u001b[39mpath\u001b[38;5;241m.\u001b[39msplitext(array_filename)[\u001b[38;5;241m0\u001b[39m] \u001b[38;5;241m+\u001b[39m \u001b[38;5;124m'\u001b[39m\u001b[38;5;124m_preprocessed.npy\u001b[39m\u001b[38;5;124m'\u001b[39m\n",
      "File \u001b[1;32m~\\anaconda3\\envs\\ads_hpp\\lib\\site-packages\\numpy\\lib\\npyio.py:456\u001b[0m, in \u001b[0;36mload\u001b[1;34m(file, mmap_mode, allow_pickle, fix_imports, encoding, max_header_size)\u001b[0m\n\u001b[0;32m    453\u001b[0m         \u001b[38;5;28;01mreturn\u001b[39;00m \u001b[38;5;28mformat\u001b[39m\u001b[38;5;241m.\u001b[39mopen_memmap(file, mode\u001b[38;5;241m=\u001b[39mmmap_mode,\n\u001b[0;32m    454\u001b[0m                                   max_header_size\u001b[38;5;241m=\u001b[39mmax_header_size)\n\u001b[0;32m    455\u001b[0m     \u001b[38;5;28;01melse\u001b[39;00m:\n\u001b[1;32m--> 456\u001b[0m         \u001b[38;5;28;01mreturn\u001b[39;00m \u001b[38;5;28;43mformat\u001b[39;49m\u001b[38;5;241;43m.\u001b[39;49m\u001b[43mread_array\u001b[49m\u001b[43m(\u001b[49m\u001b[43mfid\u001b[49m\u001b[43m,\u001b[49m\u001b[43m \u001b[49m\u001b[43mallow_pickle\u001b[49m\u001b[38;5;241;43m=\u001b[39;49m\u001b[43mallow_pickle\u001b[49m\u001b[43m,\u001b[49m\n\u001b[0;32m    457\u001b[0m \u001b[43m                                 \u001b[49m\u001b[43mpickle_kwargs\u001b[49m\u001b[38;5;241;43m=\u001b[39;49m\u001b[43mpickle_kwargs\u001b[49m\u001b[43m,\u001b[49m\n\u001b[0;32m    458\u001b[0m \u001b[43m                                 \u001b[49m\u001b[43mmax_header_size\u001b[49m\u001b[38;5;241;43m=\u001b[39;49m\u001b[43mmax_header_size\u001b[49m\u001b[43m)\u001b[49m\n\u001b[0;32m    459\u001b[0m \u001b[38;5;28;01melse\u001b[39;00m:\n\u001b[0;32m    460\u001b[0m     \u001b[38;5;66;03m# Try a pickle\u001b[39;00m\n\u001b[0;32m    461\u001b[0m     \u001b[38;5;28;01mif\u001b[39;00m \u001b[38;5;129;01mnot\u001b[39;00m allow_pickle:\n",
      "File \u001b[1;32m~\\anaconda3\\envs\\ads_hpp\\lib\\site-packages\\numpy\\lib\\format.py:809\u001b[0m, in \u001b[0;36mread_array\u001b[1;34m(fp, allow_pickle, pickle_kwargs, max_header_size)\u001b[0m\n\u001b[0;32m    806\u001b[0m \u001b[38;5;28;01melse\u001b[39;00m:\n\u001b[0;32m    807\u001b[0m     \u001b[38;5;28;01mif\u001b[39;00m isfileobj(fp):\n\u001b[0;32m    808\u001b[0m         \u001b[38;5;66;03m# We can use the fast fromfile() function.\u001b[39;00m\n\u001b[1;32m--> 809\u001b[0m         array \u001b[38;5;241m=\u001b[39m \u001b[43mnumpy\u001b[49m\u001b[38;5;241;43m.\u001b[39;49m\u001b[43mfromfile\u001b[49m\u001b[43m(\u001b[49m\u001b[43mfp\u001b[49m\u001b[43m,\u001b[49m\u001b[43m \u001b[49m\u001b[43mdtype\u001b[49m\u001b[38;5;241;43m=\u001b[39;49m\u001b[43mdtype\u001b[49m\u001b[43m,\u001b[49m\u001b[43m \u001b[49m\u001b[43mcount\u001b[49m\u001b[38;5;241;43m=\u001b[39;49m\u001b[43mcount\u001b[49m\u001b[43m)\u001b[49m\n\u001b[0;32m    810\u001b[0m     \u001b[38;5;28;01melse\u001b[39;00m:\n\u001b[0;32m    811\u001b[0m         \u001b[38;5;66;03m# This is not a real file. We have to read it the\u001b[39;00m\n\u001b[0;32m    812\u001b[0m         \u001b[38;5;66;03m# memory-intensive way.\u001b[39;00m\n\u001b[1;32m   (...)\u001b[0m\n\u001b[0;32m    820\u001b[0m         \u001b[38;5;66;03m# not correctly instantiate zero-width string dtypes; see\u001b[39;00m\n\u001b[0;32m    821\u001b[0m         \u001b[38;5;66;03m# https://github.com/numpy/numpy/pull/6430\u001b[39;00m\n\u001b[0;32m    822\u001b[0m         array \u001b[38;5;241m=\u001b[39m numpy\u001b[38;5;241m.\u001b[39mndarray(count, dtype\u001b[38;5;241m=\u001b[39mdtype)\n",
      "\u001b[1;31mMemoryError\u001b[0m: Unable to allocate 7.27 GiB for an array with shape (1951896576,) and data type float32"
     ]
    }
   ],
   "source": [
    "import numpy as np\n",
    "import os\n",
    "import gc\n",
    "from tensorflow.image import resize\n",
    "from keras.applications.vgg16 import preprocess_input\n",
    "\n",
    "array_save_path = \"D:/2023/UF/DataScience/Project/Datasets/NumpyArrays/\"\n",
    "\n",
    "def process_and_save_npy(array_filename):\n",
    "    # Load the numpy array from the specified file\n",
    "    array_path = os.path.join(array_save_path, array_filename)\n",
    "    images = np.load(array_path)\n",
    "\n",
    "    # Resize images to (224, 224)\n",
    "    images_resized = resize(images, [224, 224])\n",
    "    \n",
    "    # Clear the original array from memory\n",
    "    del images\n",
    "    gc.collect()\n",
    "\n",
    "    # Save the resized array back to disk\n",
    "    resized_filename = os.path.splitext(array_filename)[0] + '_resized.npy'\n",
    "    np.save(os.path.join(array_save_path, resized_filename), images_resized)\n",
    "    \n",
    "    # Clear the resized array from memory\n",
    "    del images_resized\n",
    "    gc.collect()\n",
    "\n",
    "    # Load the resized array, preprocess, and save it again\n",
    "    images_resized = np.load(os.path.join(array_save_path, resized_filename))\n",
    "    images_preprocessed = preprocess_input(images_resized)\n",
    "    preprocessed_filename = os.path.splitext(array_filename)[0] + '_preprocessed.npy'\n",
    "    np.save(os.path.join(array_save_path, preprocessed_filename), images_preprocessed)\n",
    "    \n",
    "    # Clear the preprocessed array from memory\n",
    "    del images_resized\n",
    "    del images_preprocessed\n",
    "    gc.collect()\n",
    "\n",
    "# Function to ask for the file name to process\n",
    "def get_filename_to_process():\n",
    "    filename = input(\"Enter the filename of the numpy array to process (e.g., 'train_zoom_16.npy'): \")\n",
    "    return filename\n",
    "\n",
    "# Main flow\n",
    "filename_to_process = get_filename_to_process()\n",
    "process_and_save_npy(filename_to_process)"
   ]
  },
  {
   "cell_type": "code",
   "execution_count": null,
   "id": "54ec303a-6105-4067-a9a2-0001813e49de",
   "metadata": {},
   "outputs": [],
   "source": []
  }
 ],
 "metadata": {
  "kernelspec": {
   "display_name": "Python 3 (ipykernel)",
   "language": "python",
   "name": "python3"
  },
  "language_info": {
   "codemirror_mode": {
    "name": "ipython",
    "version": 3
   },
   "file_extension": ".py",
   "mimetype": "text/x-python",
   "name": "python",
   "nbconvert_exporter": "python",
   "pygments_lexer": "ipython3",
   "version": "3.10.13"
  }
 },
 "nbformat": 4,
 "nbformat_minor": 5
}
